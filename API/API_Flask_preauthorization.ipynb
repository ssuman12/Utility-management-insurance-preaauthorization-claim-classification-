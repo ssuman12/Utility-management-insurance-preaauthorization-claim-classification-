{
 "cells": [
  {
   "cell_type": "code",
   "execution_count": 1,
   "metadata": {},
   "outputs": [],
   "source": [
    "import os"
   ]
  },
  {
   "cell_type": "code",
   "execution_count": 2,
   "metadata": {},
   "outputs": [
    {
     "data": {
      "text/plain": [
       "'C:\\\\Users\\\\sumitsuman\\\\Documents\\\\Insurance_pre_authorization'"
      ]
     },
     "execution_count": 2,
     "metadata": {},
     "output_type": "execute_result"
    }
   ],
   "source": [
    "os.getcwd()"
   ]
  },
  {
   "cell_type": "code",
   "execution_count": 3,
   "metadata": {},
   "outputs": [],
   "source": [
    "machine_learning_api_script_file = \"./machine_learning_api.py\""
   ]
  },
  {
   "cell_type": "code",
   "execution_count": 4,
   "metadata": {},
   "outputs": [
    {
     "name": "stderr",
     "output_type": "stream",
     "text": [
      " * Running on http://127.0.0.1:10001/ (Press CTRL+C to quit)\n",
      "C:\\Users\\sumitsuman\\AppData\\Local\\Continuum\\anaconda3\\lib\\site-packages\\ipykernel_launcher.py:81: SettingWithCopyWarning: \n",
      "A value is trying to be set on a copy of a slice from a DataFrame.\n",
      "Try using .loc[row_indexer,col_indexer] = value instead\n",
      "\n",
      "See the caveats in the documentation: http://pandas.pydata.org/pandas-docs/stable/indexing.html#indexing-view-versus-copy\n",
      "127.0.0.1 - - [01/Apr/2019 17:33:24] \"POST /make_prediction HTTP/1.1\" 200 -\n"
     ]
    },
    {
     "name": "stdout",
     "output_type": "stream",
     "text": [
      "Encoding TYPE_NM\n",
      "Encoding FATAL_INJURY_IN\n",
      "Encoding INJURY_BODY_PART_DS\n",
      "Encoding INJURY_CATEGORY_DS\n",
      "Encoding INJURY_DS\n",
      "Encoding INJURY_SEVERITY_DS\n",
      "Encoding MAIN_CAUSE_DS\n",
      "Encoding SUB_CAUSE_DS\n",
      "Encoding INSURED_NM\n",
      "Encoding CLAIM_TYPE\n",
      "Encoding SUBLINE_OF_BUSINESS_DS\n",
      "Encoding LINE_OF_BUSINESS_DS\n",
      "Encoding Fraud\n"
     ]
    },
    {
     "name": "stderr",
     "output_type": "stream",
     "text": [
      "C:\\Users\\sumitsuman\\AppData\\Local\\Continuum\\anaconda3\\lib\\site-packages\\ipykernel_launcher.py:81: SettingWithCopyWarning: \n",
      "A value is trying to be set on a copy of a slice from a DataFrame.\n",
      "Try using .loc[row_indexer,col_indexer] = value instead\n",
      "\n",
      "See the caveats in the documentation: http://pandas.pydata.org/pandas-docs/stable/indexing.html#indexing-view-versus-copy\n",
      "127.0.0.1 - - [01/Apr/2019 17:38:28] \"POST /make_prediction HTTP/1.1\" 200 -\n"
     ]
    },
    {
     "name": "stdout",
     "output_type": "stream",
     "text": [
      "Encoding TYPE_NM\n",
      "Encoding FATAL_INJURY_IN\n",
      "Encoding INJURY_BODY_PART_DS\n",
      "Encoding INJURY_CATEGORY_DS\n",
      "Encoding INJURY_DS\n",
      "Encoding INJURY_SEVERITY_DS\n",
      "Encoding MAIN_CAUSE_DS\n",
      "Encoding SUB_CAUSE_DS\n",
      "Encoding INSURED_NM\n",
      "Encoding CLAIM_TYPE\n",
      "Encoding SUBLINE_OF_BUSINESS_DS\n",
      "Encoding LINE_OF_BUSINESS_DS\n",
      "Encoding Fraud\n"
     ]
    }
   ],
   "source": [
    "from flask import Flask, abort, jsonify, request\n",
    "import pandas as pd\n",
    "import numpy as np\n",
    "import json\n",
    "from sklearn.preprocessing import LabelEncoder\n",
    "from sklearn.metrics import confusion_matrix,accuracy_score,precision_recall_curve,auc,roc_auc_score,roc_curve,recall_score,classification_report, average_precision_score \n",
    "from sklearn.pipeline import Pipeline\n",
    "\n",
    "import pickle\n",
    "\n",
    "# global graph,model\n",
    "# graph = tf.get_default_graph()\n",
    "\n",
    "\n",
    "class MultiColumnLabelEncoder:\n",
    "    def __init__(self,columns = None):\n",
    "        self.columns = columns # array of column names to encode\n",
    "\n",
    "    def fit(self,X,y=None):\n",
    "        return self # not relevant here\n",
    "\n",
    "    def transform(self,X):\n",
    "        '''\n",
    "        Transforms columns of X specified in self.columns using\n",
    "        LabelEncoder(). If no columns specified, transforms all\n",
    "        columns in X.\n",
    "        '''\n",
    "        output = X.copy()\n",
    "        if self.columns is not None:\n",
    "            for col in self.columns:\n",
    "                output[col] = LabelEncoder().fit_transform(output[col])\n",
    "        else:\n",
    "            for colname,col in output.iteritems():\n",
    "                if output[colname].dtype == 'object':\n",
    "                    print(\"Encoding \"+colname)\n",
    "                    output[colname] = LabelEncoder().fit_transform(col)\n",
    "        return output\n",
    "\n",
    "    def fit_transform(self,X,y=None):\n",
    "        return self.fit(X,y).transform(X)\n",
    "encoding_pipeline = Pipeline([\n",
    "('encoding',MultiColumnLabelEncoder())\n",
    "# add more pipeline steps as needed\n",
    "])\n",
    "\n",
    "app = Flask(__name__)\n",
    "# Load Model\n",
    "label_encoder_model = pickle.load(open('encoding_model.sav', 'rb'))\n",
    "classification_model = pickle.load(open('gradientboost.sav', 'rb'))\n",
    "\n",
    "columns=[u'INDEMNITY_PAID_TO_DATE_USD_AM', u'EXPENSE_PAID_TO_DATE_USD', u'TYPE_NM',\n",
    "       u'FATAL_INJURY_IN', u'HAS_INJURY_DETAILS', u'INJURY_BODY_PART_DS',\n",
    "       u'INJURY_CATEGORY_DS', u'INJURY_DS', u'INJURY_SEVERITY_DS',\n",
    "       u'MAIN_CAUSE_DS', u'SUB_CAUSE_DS', u'INSURED_NM', u'CLAIM_TYPE',\n",
    "       u'SUBLINE_OF_BUSINESS_DS', u'SUBLINE_OF_BUSINESS_CD',\n",
    "       u'LINE_OF_BUSINESS_CD', u'LINE_OF_BUSINESS_DS', u'Fraud',\n",
    "       u'Duration_of_claim_after_policy_effective',\n",
    "       u'Duration_left_to_policy_expiry']\n",
    "\n",
    "\n",
    "@app.route('/make_prediction', methods=['POST'])\n",
    "def make_prediction():\n",
    "    # read json object and conver to json string\n",
    "    data = json.dumps(request.get_json(force=True))\n",
    "    # create pandas dataframe using json string\n",
    "    df = pd.read_json(data)\n",
    "    cc=df[columns]\n",
    "    df2=label_encoder_model.fit_transform(cc)\n",
    "    X_test=df2.drop(columns = [\"Fraud\"],axis=1)\n",
    "    y_test=df2[\"Fraud\"]\n",
    "    \n",
    "\n",
    "    \n",
    "#     with graph.as_default():\n",
    "    model_predict_ = classification_model.predict(X_test.values)\n",
    "    model_accuracy_ = accuracy_score(y_test,model_predict_)\n",
    "    roc_auc_score_model_ = roc_auc_score(y_test,model_predict_)\n",
    "    # create response dataframe\n",
    "#     yes=pd.DataFrame.from_records(y)\n",
    "#     aa=pd.DataFrame()\n",
    "    cc['predicted']=model_predict_\n",
    "#     aa['Predicted']=yes[0]\n",
    "#     aa['Actual']=actuals\n",
    "    return cc.to_json()\n",
    "  \n",
    "\n",
    " \n",
    "\n",
    "if __name__ == '__main__':\n",
    "    app.run(port=10001,debug=False)\n",
    "    # host flask app at port 10001"
   ]
  },
  {
   "cell_type": "code",
   "execution_count": null,
   "metadata": {},
   "outputs": [],
   "source": []
  }
 ],
 "metadata": {
  "kernelspec": {
   "display_name": "Python 3",
   "language": "python",
   "name": "python3"
  },
  "language_info": {
   "codemirror_mode": {
    "name": "ipython",
    "version": 3
   },
   "file_extension": ".py",
   "mimetype": "text/x-python",
   "name": "python",
   "nbconvert_exporter": "python",
   "pygments_lexer": "ipython3",
   "version": "3.6.4"
  }
 },
 "nbformat": 4,
 "nbformat_minor": 2
}
